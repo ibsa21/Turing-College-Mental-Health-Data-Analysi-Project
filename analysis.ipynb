{
 "cells": [
  {
   "cell_type": "code",
   "execution_count": 75,
   "id": "7aab0203",
   "metadata": {},
   "outputs": [],
   "source": [
    "# Import python modules\n",
    "import pandas as pd\n",
    "import numpy as np\n",
    "import sqlite3\n",
    "import pprint\n",
    "import matplotlib.pyplot as plt\n",
    "import plotly.express as px\n",
    "import seaborn as sns\n",
    "import warnings\n",
    "from scipy.stats import poisson \n",
    "from typing import List, Dict\n",
    "from wordcloud import WordCloud"
   ]
  },
  {
   "cell_type": "code",
   "execution_count": 76,
   "id": "22ff2e2f",
   "metadata": {},
   "outputs": [],
   "source": [
    "#settings\n",
    "%matplotlib inline\n",
    "sns.set_theme(style=\"whitegrid\")\n",
    "sns.set()\n",
    "warnings.filterwarnings('ignore')"
   ]
  },
  {
   "cell_type": "code",
   "execution_count": 77,
   "id": "8a3ab4df",
   "metadata": {},
   "outputs": [],
   "source": [
    "#create connection\n",
    "con = sqlite3.connect(\"mental_health.sqlite\")"
   ]
  },
  {
   "cell_type": "code",
   "execution_count": 78,
   "id": "438b013a",
   "metadata": {},
   "outputs": [],
   "source": [
    "#read the question\n",
    "questions_df = pd.read_sql_query(\"SELECT * FROM question\", con)"
   ]
  },
  {
   "cell_type": "markdown",
   "id": "626b35fe",
   "metadata": {},
   "source": [
    "We can see that the last question has id 118, while it's index is 104, thus we have 105 questions. We can see that questions with ids 35-47 are missing. Let's pull a test df to make sure we didn't have them in the first place and we didn't lose them in the process"
   ]
  },
  {
   "cell_type": "code",
   "execution_count": 79,
   "id": "67f676b0",
   "metadata": {},
   "outputs": [
    {
     "data": {
      "text/html": [
       "<div>\n",
       "<style scoped>\n",
       "    .dataframe tbody tr th:only-of-type {\n",
       "        vertical-align: middle;\n",
       "    }\n",
       "\n",
       "    .dataframe tbody tr th {\n",
       "        vertical-align: top;\n",
       "    }\n",
       "\n",
       "    .dataframe thead th {\n",
       "        text-align: right;\n",
       "    }\n",
       "</style>\n",
       "<table border=\"1\" class=\"dataframe\">\n",
       "  <thead>\n",
       "    <tr style=\"text-align: right;\">\n",
       "      <th></th>\n",
       "      <th>questiontext</th>\n",
       "      <th>questionid</th>\n",
       "    </tr>\n",
       "  </thead>\n",
       "  <tbody>\n",
       "  </tbody>\n",
       "</table>\n",
       "</div>"
      ],
      "text/plain": [
       "Empty DataFrame\n",
       "Columns: [questiontext, questionid]\n",
       "Index: []"
      ]
     },
     "execution_count": 79,
     "metadata": {},
     "output_type": "execute_result"
    }
   ],
   "source": [
    "test =  pd.read_sql_query('SELECT * FROM Question WHERE QuestionID BETWEEN 35 AND 47 ', con)\n",
    "test"
   ]
  },
  {
   "cell_type": "markdown",
   "id": "45ba75cb",
   "metadata": {},
   "source": [
    "Indeed we don't have any values with those IDs Let's examine countries participants are corrently living in"
   ]
  },
  {
   "cell_type": "code",
   "execution_count": 80,
   "id": "f0368988",
   "metadata": {},
   "outputs": [],
   "source": [
    "#read answers\n",
    "answers_df = pd.read_sql_query(\"SELECT * FROM answer\", con)\n",
    "answers_df.columns = ['AnswerText', 'SurveyID',\t'UserID', 'questionid']"
   ]
  },
  {
   "cell_type": "code",
   "execution_count": 81,
   "id": "5098fc7f",
   "metadata": {},
   "outputs": [],
   "source": [
    "#read survey\n",
    "surveys_df = pd.read_sql_query(\"SELECT * FROM survey\", con)"
   ]
  },
  {
   "cell_type": "code",
   "execution_count": 82,
   "id": "34ec5369",
   "metadata": {},
   "outputs": [
    {
     "data": {
      "text/html": [
       "<div>\n",
       "<style scoped>\n",
       "    .dataframe tbody tr th:only-of-type {\n",
       "        vertical-align: middle;\n",
       "    }\n",
       "\n",
       "    .dataframe tbody tr th {\n",
       "        vertical-align: top;\n",
       "    }\n",
       "\n",
       "    .dataframe thead th {\n",
       "        text-align: right;\n",
       "    }\n",
       "</style>\n",
       "<table border=\"1\" class=\"dataframe\">\n",
       "  <thead>\n",
       "    <tr style=\"text-align: right;\">\n",
       "      <th></th>\n",
       "      <th>AnswerText</th>\n",
       "      <th>SurveyID</th>\n",
       "      <th>UserID</th>\n",
       "      <th>questionid</th>\n",
       "      <th>questiontext</th>\n",
       "    </tr>\n",
       "  </thead>\n",
       "  <tbody>\n",
       "    <tr>\n",
       "      <th>0</th>\n",
       "      <td>37</td>\n",
       "      <td>2014</td>\n",
       "      <td>1</td>\n",
       "      <td>1</td>\n",
       "      <td>What is your age?</td>\n",
       "    </tr>\n",
       "    <tr>\n",
       "      <th>1</th>\n",
       "      <td>44</td>\n",
       "      <td>2014</td>\n",
       "      <td>2</td>\n",
       "      <td>1</td>\n",
       "      <td>What is your age?</td>\n",
       "    </tr>\n",
       "    <tr>\n",
       "      <th>2</th>\n",
       "      <td>32</td>\n",
       "      <td>2014</td>\n",
       "      <td>3</td>\n",
       "      <td>1</td>\n",
       "      <td>What is your age?</td>\n",
       "    </tr>\n",
       "    <tr>\n",
       "      <th>3</th>\n",
       "      <td>31</td>\n",
       "      <td>2014</td>\n",
       "      <td>4</td>\n",
       "      <td>1</td>\n",
       "      <td>What is your age?</td>\n",
       "    </tr>\n",
       "    <tr>\n",
       "      <th>4</th>\n",
       "      <td>31</td>\n",
       "      <td>2014</td>\n",
       "      <td>5</td>\n",
       "      <td>1</td>\n",
       "      <td>What is your age?</td>\n",
       "    </tr>\n",
       "    <tr>\n",
       "      <th>...</th>\n",
       "      <td>...</td>\n",
       "      <td>...</td>\n",
       "      <td>...</td>\n",
       "      <td>...</td>\n",
       "      <td>...</td>\n",
       "    </tr>\n",
       "    <tr>\n",
       "      <th>236893</th>\n",
       "      <td>Other</td>\n",
       "      <td>2016</td>\n",
       "      <td>2689</td>\n",
       "      <td>117</td>\n",
       "      <td>Which of the following best describes your wor...</td>\n",
       "    </tr>\n",
       "    <tr>\n",
       "      <th>236894</th>\n",
       "      <td>Support</td>\n",
       "      <td>2016</td>\n",
       "      <td>2690</td>\n",
       "      <td>117</td>\n",
       "      <td>Which of the following best describes your wor...</td>\n",
       "    </tr>\n",
       "    <tr>\n",
       "      <th>236895</th>\n",
       "      <td>Back-end Developer</td>\n",
       "      <td>2016</td>\n",
       "      <td>2691</td>\n",
       "      <td>117</td>\n",
       "      <td>Which of the following best describes your wor...</td>\n",
       "    </tr>\n",
       "    <tr>\n",
       "      <th>236896</th>\n",
       "      <td>DevOps/SysAdmin</td>\n",
       "      <td>2016</td>\n",
       "      <td>2692</td>\n",
       "      <td>117</td>\n",
       "      <td>Which of the following best describes your wor...</td>\n",
       "    </tr>\n",
       "    <tr>\n",
       "      <th>236897</th>\n",
       "      <td>Other</td>\n",
       "      <td>2016</td>\n",
       "      <td>2693</td>\n",
       "      <td>117</td>\n",
       "      <td>Which of the following best describes your wor...</td>\n",
       "    </tr>\n",
       "  </tbody>\n",
       "</table>\n",
       "<p>236898 rows × 5 columns</p>\n",
       "</div>"
      ],
      "text/plain": [
       "                AnswerText  SurveyID  UserID  questionid  \\\n",
       "0                       37      2014       1           1   \n",
       "1                       44      2014       2           1   \n",
       "2                       32      2014       3           1   \n",
       "3                       31      2014       4           1   \n",
       "4                       31      2014       5           1   \n",
       "...                    ...       ...     ...         ...   \n",
       "236893               Other      2016    2689         117   \n",
       "236894             Support      2016    2690         117   \n",
       "236895  Back-end Developer      2016    2691         117   \n",
       "236896     DevOps/SysAdmin      2016    2692         117   \n",
       "236897               Other      2016    2693         117   \n",
       "\n",
       "                                             questiontext  \n",
       "0                                       What is your age?  \n",
       "1                                       What is your age?  \n",
       "2                                       What is your age?  \n",
       "3                                       What is your age?  \n",
       "4                                       What is your age?  \n",
       "...                                                   ...  \n",
       "236893  Which of the following best describes your wor...  \n",
       "236894  Which of the following best describes your wor...  \n",
       "236895  Which of the following best describes your wor...  \n",
       "236896  Which of the following best describes your wor...  \n",
       "236897  Which of the following best describes your wor...  \n",
       "\n",
       "[236898 rows x 5 columns]"
      ]
     },
     "metadata": {},
     "output_type": "display_data"
    },
    {
     "data": {
      "text/html": [
       "<div>\n",
       "<style scoped>\n",
       "    .dataframe tbody tr th:only-of-type {\n",
       "        vertical-align: middle;\n",
       "    }\n",
       "\n",
       "    .dataframe tbody tr th {\n",
       "        vertical-align: top;\n",
       "    }\n",
       "\n",
       "    .dataframe thead th {\n",
       "        text-align: right;\n",
       "    }\n",
       "</style>\n",
       "<table border=\"1\" class=\"dataframe\">\n",
       "  <thead>\n",
       "    <tr style=\"text-align: right;\">\n",
       "      <th></th>\n",
       "      <th>AnswerText</th>\n",
       "      <th>SurveyID</th>\n",
       "      <th>UserID</th>\n",
       "      <th>questionid</th>\n",
       "      <th>questiontext</th>\n",
       "    </tr>\n",
       "  </thead>\n",
       "  <tbody>\n",
       "    <tr>\n",
       "      <th>0</th>\n",
       "      <td>37</td>\n",
       "      <td>2014</td>\n",
       "      <td>1</td>\n",
       "      <td>1</td>\n",
       "      <td>What is your age?</td>\n",
       "    </tr>\n",
       "    <tr>\n",
       "      <th>1</th>\n",
       "      <td>44</td>\n",
       "      <td>2014</td>\n",
       "      <td>2</td>\n",
       "      <td>1</td>\n",
       "      <td>What is your age?</td>\n",
       "    </tr>\n",
       "    <tr>\n",
       "      <th>2</th>\n",
       "      <td>32</td>\n",
       "      <td>2014</td>\n",
       "      <td>3</td>\n",
       "      <td>1</td>\n",
       "      <td>What is your age?</td>\n",
       "    </tr>\n",
       "    <tr>\n",
       "      <th>3</th>\n",
       "      <td>31</td>\n",
       "      <td>2014</td>\n",
       "      <td>4</td>\n",
       "      <td>1</td>\n",
       "      <td>What is your age?</td>\n",
       "    </tr>\n",
       "    <tr>\n",
       "      <th>4</th>\n",
       "      <td>31</td>\n",
       "      <td>2014</td>\n",
       "      <td>5</td>\n",
       "      <td>1</td>\n",
       "      <td>What is your age?</td>\n",
       "    </tr>\n",
       "    <tr>\n",
       "      <th>...</th>\n",
       "      <td>...</td>\n",
       "      <td>...</td>\n",
       "      <td>...</td>\n",
       "      <td>...</td>\n",
       "      <td>...</td>\n",
       "    </tr>\n",
       "    <tr>\n",
       "      <th>203936</th>\n",
       "      <td>27</td>\n",
       "      <td>2019</td>\n",
       "      <td>4214</td>\n",
       "      <td>1</td>\n",
       "      <td>What is your age?</td>\n",
       "    </tr>\n",
       "    <tr>\n",
       "      <th>203937</th>\n",
       "      <td>48</td>\n",
       "      <td>2019</td>\n",
       "      <td>4215</td>\n",
       "      <td>1</td>\n",
       "      <td>What is your age?</td>\n",
       "    </tr>\n",
       "    <tr>\n",
       "      <th>203938</th>\n",
       "      <td>50</td>\n",
       "      <td>2019</td>\n",
       "      <td>4216</td>\n",
       "      <td>1</td>\n",
       "      <td>What is your age?</td>\n",
       "    </tr>\n",
       "    <tr>\n",
       "      <th>203939</th>\n",
       "      <td>30</td>\n",
       "      <td>2019</td>\n",
       "      <td>4217</td>\n",
       "      <td>1</td>\n",
       "      <td>What is your age?</td>\n",
       "    </tr>\n",
       "    <tr>\n",
       "      <th>203940</th>\n",
       "      <td>24</td>\n",
       "      <td>2019</td>\n",
       "      <td>4218</td>\n",
       "      <td>1</td>\n",
       "      <td>What is your age?</td>\n",
       "    </tr>\n",
       "  </tbody>\n",
       "</table>\n",
       "<p>4218 rows × 5 columns</p>\n",
       "</div>"
      ],
      "text/plain": [
       "       AnswerText  SurveyID  UserID  questionid       questiontext\n",
       "0              37      2014       1           1  What is your age?\n",
       "1              44      2014       2           1  What is your age?\n",
       "2              32      2014       3           1  What is your age?\n",
       "3              31      2014       4           1  What is your age?\n",
       "4              31      2014       5           1  What is your age?\n",
       "...           ...       ...     ...         ...                ...\n",
       "203936         27      2019    4214           1  What is your age?\n",
       "203937         48      2019    4215           1  What is your age?\n",
       "203938         50      2019    4216           1  What is your age?\n",
       "203939         30      2019    4217           1  What is your age?\n",
       "203940         24      2019    4218           1  What is your age?\n",
       "\n",
       "[4218 rows x 5 columns]"
      ]
     },
     "execution_count": 82,
     "metadata": {},
     "output_type": "execute_result"
    }
   ],
   "source": [
    "qa = pd.merge(answers_df, questions_df, how='left', on='questionid')\n",
    "display(qa)\n",
    "# qa\n",
    "qa[qa['questiontext']=='What is your age?']"
   ]
  },
  {
   "cell_type": "code",
   "execution_count": 83,
   "id": "97cd79a4",
   "metadata": {},
   "outputs": [
    {
     "data": {
      "text/html": [
       "<div>\n",
       "<style scoped>\n",
       "    .dataframe tbody tr th:only-of-type {\n",
       "        vertical-align: middle;\n",
       "    }\n",
       "\n",
       "    .dataframe tbody tr th {\n",
       "        vertical-align: top;\n",
       "    }\n",
       "\n",
       "    .dataframe thead th {\n",
       "        text-align: right;\n",
       "    }\n",
       "</style>\n",
       "<table border=\"1\" class=\"dataframe\">\n",
       "  <thead>\n",
       "    <tr style=\"text-align: right;\">\n",
       "      <th></th>\n",
       "      <th>questiontext</th>\n",
       "      <th>questionid</th>\n",
       "      <th>AnswerText</th>\n",
       "      <th>SurveyID</th>\n",
       "      <th>UserID</th>\n",
       "      <th>QuestionID</th>\n",
       "    </tr>\n",
       "  </thead>\n",
       "  <tbody>\n",
       "    <tr>\n",
       "      <th>0</th>\n",
       "      <td>What is your age?</td>\n",
       "      <td>1</td>\n",
       "      <td>-1</td>\n",
       "      <td>2014</td>\n",
       "      <td>391</td>\n",
       "      <td>1</td>\n",
       "    </tr>\n",
       "    <tr>\n",
       "      <th>1</th>\n",
       "      <td>What is your age?</td>\n",
       "      <td>1</td>\n",
       "      <td>-1</td>\n",
       "      <td>2014</td>\n",
       "      <td>716</td>\n",
       "      <td>1</td>\n",
       "    </tr>\n",
       "    <tr>\n",
       "      <th>2</th>\n",
       "      <td>What is your age?</td>\n",
       "      <td>1</td>\n",
       "      <td>-1</td>\n",
       "      <td>2014</td>\n",
       "      <td>1128</td>\n",
       "      <td>1</td>\n",
       "    </tr>\n",
       "    <tr>\n",
       "      <th>3</th>\n",
       "      <td>What is your age?</td>\n",
       "      <td>1</td>\n",
       "      <td>-1</td>\n",
       "      <td>2017</td>\n",
       "      <td>3447</td>\n",
       "      <td>1</td>\n",
       "    </tr>\n",
       "    <tr>\n",
       "      <th>4</th>\n",
       "      <td>What is your age?</td>\n",
       "      <td>1</td>\n",
       "      <td>-1</td>\n",
       "      <td>2017</td>\n",
       "      <td>3449</td>\n",
       "      <td>1</td>\n",
       "    </tr>\n",
       "  </tbody>\n",
       "</table>\n",
       "</div>"
      ],
      "text/plain": [
       "        questiontext  questionid AnswerText  SurveyID  UserID  QuestionID\n",
       "0  What is your age?           1         -1      2014     391           1\n",
       "1  What is your age?           1         -1      2014     716           1\n",
       "2  What is your age?           1         -1      2014    1128           1\n",
       "3  What is your age?           1         -1      2017    3447           1\n",
       "4  What is your age?           1         -1      2017    3449           1"
      ]
     },
     "execution_count": 83,
     "metadata": {},
     "output_type": "execute_result"
    }
   ],
   "source": [
    "#join question and it's answer\n",
    "df = pd.read_sql_query(\"SELECT * FROM question JOIN answer ON question.questionid = answer.QuestionID\", con)\n",
    "df.head()"
   ]
  },
  {
   "cell_type": "code",
   "execution_count": 84,
   "id": "20cfa2eb",
   "metadata": {},
   "outputs": [
    {
     "data": {
      "text/html": [
       "<div>\n",
       "<style scoped>\n",
       "    .dataframe tbody tr th:only-of-type {\n",
       "        vertical-align: middle;\n",
       "    }\n",
       "\n",
       "    .dataframe tbody tr th {\n",
       "        vertical-align: top;\n",
       "    }\n",
       "\n",
       "    .dataframe thead th {\n",
       "        text-align: right;\n",
       "    }\n",
       "</style>\n",
       "<table border=\"1\" class=\"dataframe\">\n",
       "  <thead>\n",
       "    <tr style=\"text-align: right;\">\n",
       "      <th></th>\n",
       "      <th>questiontext</th>\n",
       "      <th>questionid</th>\n",
       "      <th>AnswerText</th>\n",
       "      <th>SurveyID</th>\n",
       "      <th>UserID</th>\n",
       "      <th>QuestionID</th>\n",
       "      <th>SurveyID</th>\n",
       "      <th>Description</th>\n",
       "    </tr>\n",
       "  </thead>\n",
       "  <tbody>\n",
       "    <tr>\n",
       "      <th>0</th>\n",
       "      <td>What is your age?</td>\n",
       "      <td>1</td>\n",
       "      <td>37</td>\n",
       "      <td>2014</td>\n",
       "      <td>1</td>\n",
       "      <td>1</td>\n",
       "      <td>2014</td>\n",
       "      <td>mental health survey for 2014</td>\n",
       "    </tr>\n",
       "    <tr>\n",
       "      <th>1</th>\n",
       "      <td>What is your age?</td>\n",
       "      <td>1</td>\n",
       "      <td>44</td>\n",
       "      <td>2014</td>\n",
       "      <td>2</td>\n",
       "      <td>1</td>\n",
       "      <td>2014</td>\n",
       "      <td>mental health survey for 2014</td>\n",
       "    </tr>\n",
       "    <tr>\n",
       "      <th>2</th>\n",
       "      <td>What is your age?</td>\n",
       "      <td>1</td>\n",
       "      <td>32</td>\n",
       "      <td>2014</td>\n",
       "      <td>3</td>\n",
       "      <td>1</td>\n",
       "      <td>2014</td>\n",
       "      <td>mental health survey for 2014</td>\n",
       "    </tr>\n",
       "    <tr>\n",
       "      <th>3</th>\n",
       "      <td>What is your age?</td>\n",
       "      <td>1</td>\n",
       "      <td>31</td>\n",
       "      <td>2014</td>\n",
       "      <td>4</td>\n",
       "      <td>1</td>\n",
       "      <td>2014</td>\n",
       "      <td>mental health survey for 2014</td>\n",
       "    </tr>\n",
       "    <tr>\n",
       "      <th>4</th>\n",
       "      <td>What is your age?</td>\n",
       "      <td>1</td>\n",
       "      <td>31</td>\n",
       "      <td>2014</td>\n",
       "      <td>5</td>\n",
       "      <td>1</td>\n",
       "      <td>2014</td>\n",
       "      <td>mental health survey for 2014</td>\n",
       "    </tr>\n",
       "  </tbody>\n",
       "</table>\n",
       "</div>"
      ],
      "text/plain": [
       "        questiontext  questionid AnswerText  SurveyID  UserID  QuestionID  \\\n",
       "0  What is your age?           1         37      2014       1           1   \n",
       "1  What is your age?           1         44      2014       2           1   \n",
       "2  What is your age?           1         32      2014       3           1   \n",
       "3  What is your age?           1         31      2014       4           1   \n",
       "4  What is your age?           1         31      2014       5           1   \n",
       "\n",
       "   SurveyID                    Description  \n",
       "0      2014  mental health survey for 2014  \n",
       "1      2014  mental health survey for 2014  \n",
       "2      2014  mental health survey for 2014  \n",
       "3      2014  mental health survey for 2014  \n",
       "4      2014  mental health survey for 2014  "
      ]
     },
     "execution_count": 84,
     "metadata": {},
     "output_type": "execute_result"
    }
   ],
   "source": [
    "data = pd.read_sql_query(\n",
    "                        'SELECT * FROM Question JOIN Answer \\\n",
    "                        ON Answer.QuestionID = Question.questionid \\\n",
    "                        JOIN Survey ON Answer.SurveyID = Survey.SurveyID'\n",
    "                       ,con)\n",
    "data.head()"
   ]
  },
  {
   "cell_type": "code",
   "execution_count": 85,
   "id": "3c0aefd2",
   "metadata": {},
   "outputs": [],
   "source": [
    "#data cleaning\n",
    "del data['QuestionID']"
   ]
  },
  {
   "cell_type": "code",
   "execution_count": 86,
   "id": "9f3ef334",
   "metadata": {},
   "outputs": [
    {
     "data": {
      "text/html": [
       "<div>\n",
       "<style scoped>\n",
       "    .dataframe tbody tr th:only-of-type {\n",
       "        vertical-align: middle;\n",
       "    }\n",
       "\n",
       "    .dataframe tbody tr th {\n",
       "        vertical-align: top;\n",
       "    }\n",
       "\n",
       "    .dataframe thead th {\n",
       "        text-align: right;\n",
       "    }\n",
       "</style>\n",
       "<table border=\"1\" class=\"dataframe\">\n",
       "  <thead>\n",
       "    <tr style=\"text-align: right;\">\n",
       "      <th></th>\n",
       "      <th>Year</th>\n",
       "      <th>Num_users</th>\n",
       "      <th>num_answer</th>\n",
       "    </tr>\n",
       "  </thead>\n",
       "  <tbody>\n",
       "    <tr>\n",
       "      <th>0</th>\n",
       "      <td>2014</td>\n",
       "      <td>1260</td>\n",
       "      <td>32760</td>\n",
       "    </tr>\n",
       "    <tr>\n",
       "      <th>1</th>\n",
       "      <td>2016</td>\n",
       "      <td>1433</td>\n",
       "      <td>88238</td>\n",
       "    </tr>\n",
       "    <tr>\n",
       "      <th>2</th>\n",
       "      <td>2017</td>\n",
       "      <td>756</td>\n",
       "      <td>57456</td>\n",
       "    </tr>\n",
       "    <tr>\n",
       "      <th>3</th>\n",
       "      <td>2018</td>\n",
       "      <td>417</td>\n",
       "      <td>31692</td>\n",
       "    </tr>\n",
       "    <tr>\n",
       "      <th>4</th>\n",
       "      <td>2019</td>\n",
       "      <td>352</td>\n",
       "      <td>26752</td>\n",
       "    </tr>\n",
       "  </tbody>\n",
       "</table>\n",
       "</div>"
      ],
      "text/plain": [
       "   Year  Num_users  num_answer\n",
       "0  2014       1260       32760\n",
       "1  2016       1433       88238\n",
       "2  2017        756       57456\n",
       "3  2018        417       31692\n",
       "4  2019        352       26752"
      ]
     },
     "execution_count": 86,
     "metadata": {},
     "output_type": "execute_result"
    }
   ],
   "source": [
    "#number of people join the survery by year\n",
    "num_survey= \"\"\"\n",
    "select distinct SurveyID as Year, count(distinct UserID) as Num_users, count(UserID) as num_answer\n",
    "from Answer\n",
    "group by SurveyID\"\"\"\n",
    "num_survey= pd.read_sql(sql=num_survey, con=con)\n",
    "num_survey"
   ]
  },
  {
   "cell_type": "code",
   "execution_count": 87,
   "id": "cbc8257e",
   "metadata": {},
   "outputs": [],
   "source": [
    "# num_survey['response_percent'] = (num_survey['num_answer'] / num_survey['num_answer'].sum()) * 100\n",
    "# num_survey['people_percent'] = (num_survey['Num_users'] / num_survey['Num_users'].sum()) * 100"
   ]
  },
  {
   "cell_type": "code",
   "execution_count": 88,
   "id": "cdd26cae",
   "metadata": {},
   "outputs": [],
   "source": [
    "# f, ax = plt.subplots(figsize=(8, 8))\n",
    "# sb.set_color_codes(\"pastel\")\n",
    "# sb.barplot(x=num_survey['Year'], y= num_survey['response_percent'],label=\"Count of Response\", color=\"b\")\n",
    "# sb.set_color_codes(\"muted\")\n",
    "# sb.barplot(x=num_survey['Year'], y= num_survey['people_percent'],label=\"Count of Response\", color=\"b\")\n",
    "# ax.legend(ncol=2, loc=\"upper left\", frameon=True)\n",
    "# ax.set(ylabel=\"\", xlabel=\"Number of Students enrolled\")\n",
    "# sb.despine(left=True, bottom=True)"
   ]
  },
  {
   "cell_type": "code",
   "execution_count": 89,
   "id": "b06236ae",
   "metadata": {},
   "outputs": [
    {
     "data": {
      "image/png": "[encoded data removed]",
      "text/plain": [
       "<Figure size 640x480 with 1 Axes>"
      ]
     },
     "metadata": {},
     "output_type": "display_data"
    }
   ],
   "source": [
    "#plot: count of people who took the survery\n",
    "sns.barplot(x=num_survey['Year'], y= num_survey['Num_users'])\n",
    "plt.show()"
   ]
  },
  {
   "cell_type": "code",
   "execution_count": 90,
   "id": "95284a52",
   "metadata": {},
   "outputs": [
    {
     "data": {
      "text/html": [
       "<div>\n",
       "<style scoped>\n",
       "    .dataframe tbody tr th:only-of-type {\n",
       "        vertical-align: middle;\n",
       "    }\n",
       "\n",
       "    .dataframe tbody tr th {\n",
       "        vertical-align: top;\n",
       "    }\n",
       "\n",
       "    .dataframe thead th {\n",
       "        text-align: right;\n",
       "    }\n",
       "</style>\n",
       "<table border=\"1\" class=\"dataframe\">\n",
       "  <thead>\n",
       "    <tr style=\"text-align: right;\">\n",
       "      <th></th>\n",
       "      <th>Year</th>\n",
       "      <th>num_questions</th>\n",
       "    </tr>\n",
       "  </thead>\n",
       "  <tbody>\n",
       "    <tr>\n",
       "      <th>0</th>\n",
       "      <td>2014</td>\n",
       "      <td>26</td>\n",
       "    </tr>\n",
       "    <tr>\n",
       "      <th>1</th>\n",
       "      <td>2016</td>\n",
       "      <td>60</td>\n",
       "    </tr>\n",
       "    <tr>\n",
       "      <th>2</th>\n",
       "      <td>2017</td>\n",
       "      <td>76</td>\n",
       "    </tr>\n",
       "    <tr>\n",
       "      <th>3</th>\n",
       "      <td>2018</td>\n",
       "      <td>76</td>\n",
       "    </tr>\n",
       "    <tr>\n",
       "      <th>4</th>\n",
       "      <td>2019</td>\n",
       "      <td>76</td>\n",
       "    </tr>\n",
       "  </tbody>\n",
       "</table>\n",
       "</div>"
      ],
      "text/plain": [
       "   Year  num_questions\n",
       "0  2014             26\n",
       "1  2016             60\n",
       "2  2017             76\n",
       "3  2018             76\n",
       "4  2019             76"
      ]
     },
     "execution_count": 90,
     "metadata": {},
     "output_type": "execute_result"
    }
   ],
   "source": [
    "#Number of questions in each survey year\n",
    "num_que=\"\"\"\n",
    "select distinct SurveyID as Year, count(distinct QuestionID) as num_questions\n",
    "from Answer\n",
    "group by Year\"\"\"\n",
    "num_que= pd.read_sql(sql=num_que, con=con)\n",
    "num_que"
   ]
  },
  {
   "cell_type": "code",
   "execution_count": 91,
   "id": "a1a3fc64",
   "metadata": {},
   "outputs": [
    {
     "data": {
      "image/png": "[encoded data removed]",
      "text/plain": [
       "<Figure size 960x360 with 2 Axes>"
      ]
     },
     "metadata": {},
     "output_type": "display_data"
    }
   ],
   "source": [
    "fig, (ax1, ax2)= plt.subplots(1,2,figsize=(8,3), sharex=True, sharey= False, dpi=120)\n",
    "ax1.plot(num_que['Year'],num_que['num_questions'], 'bo-')\n",
    "ax2.plot(num_survey['Year'],num_survey['Num_users'],'r*--')\n",
    "ax1.set(title='Number of questions', xlabel='X', ylabel='Y', ylim=(20,80))\n",
    "ax2.set(title='Number of users', xlabel='X', ylabel='Y', ylim=(350, 1450))\n",
    "plt.suptitle('The trend number of questions and users by year',verticalalignment ='bottom')\n",
    "plt.show()"
   ]
  },
  {
   "cell_type": "markdown",
   "id": "13183214",
   "metadata": {},
   "source": [
    "The number of questions increases each year, it can be a reason why people less join the survey, most of questions are not in scale structure, so it takes a long time to answer all of them. The survey's organization should redesign the questions and the number of them which is easy to attract more volunteers."
   ]
  },
  {
   "cell_type": "code",
   "execution_count": 92,
   "id": "fbe03dc8",
   "metadata": {},
   "outputs": [
    {
     "data": {
      "text/html": [
       "<div>\n",
       "<style scoped>\n",
       "    .dataframe tbody tr th:only-of-type {\n",
       "        vertical-align: middle;\n",
       "    }\n",
       "\n",
       "    .dataframe tbody tr th {\n",
       "        vertical-align: top;\n",
       "    }\n",
       "\n",
       "    .dataframe thead th {\n",
       "        text-align: right;\n",
       "    }\n",
       "</style>\n",
       "<table border=\"1\" class=\"dataframe\">\n",
       "  <thead>\n",
       "    <tr style=\"text-align: right;\">\n",
       "      <th></th>\n",
       "      <th>AnswerText</th>\n",
       "      <th>SurveyID</th>\n",
       "      <th>UserID</th>\n",
       "      <th>questionid</th>\n",
       "      <th>questiontext</th>\n",
       "    </tr>\n",
       "  </thead>\n",
       "  <tbody>\n",
       "    <tr>\n",
       "      <th>1260</th>\n",
       "      <td>Female</td>\n",
       "      <td>2014</td>\n",
       "      <td>1</td>\n",
       "      <td>2</td>\n",
       "      <td>What is your gender?</td>\n",
       "    </tr>\n",
       "    <tr>\n",
       "      <th>1261</th>\n",
       "      <td>Male</td>\n",
       "      <td>2014</td>\n",
       "      <td>2</td>\n",
       "      <td>2</td>\n",
       "      <td>What is your gender?</td>\n",
       "    </tr>\n",
       "    <tr>\n",
       "      <th>1262</th>\n",
       "      <td>Male</td>\n",
       "      <td>2014</td>\n",
       "      <td>3</td>\n",
       "      <td>2</td>\n",
       "      <td>What is your gender?</td>\n",
       "    </tr>\n",
       "    <tr>\n",
       "      <th>1263</th>\n",
       "      <td>Male</td>\n",
       "      <td>2014</td>\n",
       "      <td>4</td>\n",
       "      <td>2</td>\n",
       "      <td>What is your gender?</td>\n",
       "    </tr>\n",
       "    <tr>\n",
       "      <th>1264</th>\n",
       "      <td>Male</td>\n",
       "      <td>2014</td>\n",
       "      <td>5</td>\n",
       "      <td>2</td>\n",
       "      <td>What is your gender?</td>\n",
       "    </tr>\n",
       "  </tbody>\n",
       "</table>\n",
       "</div>"
      ],
      "text/plain": [
       "     AnswerText  SurveyID  UserID  questionid          questiontext\n",
       "1260     Female      2014       1           2  What is your gender?\n",
       "1261       Male      2014       2           2  What is your gender?\n",
       "1262       Male      2014       3           2  What is your gender?\n",
       "1263       Male      2014       4           2  What is your gender?\n",
       "1264       Male      2014       5           2  What is your gender?"
      ]
     },
     "execution_count": 92,
     "metadata": {},
     "output_type": "execute_result"
    }
   ],
   "source": [
    "#Gender who took the survery analysis\n",
    "gender_through_years = qa.query(\"questionid == 2\")\n",
    "gender_through_years.head()"
   ]
  },
  {
   "cell_type": "code",
   "execution_count": 93,
   "id": "19c662fb",
   "metadata": {},
   "outputs": [],
   "source": [
    "\n",
    "\n",
    "temp_groupby = None\n",
    "gender_dist = \\\n",
    "{\n",
    "    \"male\": [0] * surveys_df.shape[0],\n",
    "    \"female\": [0] * surveys_df.shape[0],\n",
    "    \"transgender\": [0] * surveys_df.shape[0],\n",
    "    \"non_binary\": [0] * surveys_df.shape[0],\n",
    "    \"queer\": [0] * surveys_df.shape[0],\n",
    "    \"gender_fluid\": [0] * surveys_df.shape[0],\n",
    "    \"other\": [0] * surveys_df.shape[0]\n",
    "}\n",
    "\n",
    "for idx, year in enumerate(surveys_df[\"SurveyID\"]):\n",
    "    temp = gender_through_years[gender_through_years[\"SurveyID\"] == year]\n",
    "    temp_groupby = temp.groupby('AnswerText').count()\n",
    "    \n",
    "    for gender, row in temp_groupby.iterrows():\n",
    "        if \"trans\" in gender.lower() or \"ftm\" in gender.lower() or \"mtf\" in gender.lower():                    \n",
    "            gender_dist[\"transgender\"][idx] = gender_dist[\"transgender\"][idx] + row[1]\n",
    "        elif \"fluid\" in gender.lower():                                                           \n",
    "            gender_dist[\"gender_fluid\"][idx] = gender_dist[\"gender_fluid\"][idx] + row[1]\n",
    "        elif \"female\" in gender.lower() or \"she\" in gender.lower() or \"femina\" in gender.lower():                                                           \n",
    "            gender_dist[\"female\"][idx] = gender_dist[\"female\"][idx] + row[1]\n",
    "        elif (\"non\" in gender.lower() and \"binary\" in gender.lower()) or \"nb\" in gender.lower():                                                           \n",
    "            gender_dist[\"non_binary\"][idx] = gender_dist[\"non_binary\"][idx] + row[1]\n",
    "        elif \"queer\" in gender.lower():                                                           \n",
    "            gender_dist[\"queer\"][idx] = gender_dist[\"queer\"][idx] + row[1]\n",
    "        elif \"male\" in gender.lower() or \"guy\" in gender.lower() or \"swm\" in gender.lower() or \"masculino\" in gender.lower():                                                           \n",
    "            gender_dist[\"male\"][idx] = gender_dist[\"male\"][idx] + row[1]\n",
    "        else:\n",
    "            gender_dist[\"other\"][idx] = gender_dist[\"other\"][idx] + row[1]"
   ]
  },
  {
   "cell_type": "markdown",
   "id": "82278925",
   "metadata": {},
   "source": [
    "\n",
    "\n",
    "However, bfore we plot the graph, we take a look at the bare numbers that make up the graph.\n",
    "\n",
    "print(f\"Gender distribution: \\n\")\n",
    "pprint.pprint(gender_distribution)\n",
    "print(f\"Gender distribution: \\n\")\n",
    "pprint.pprint(gender_distribution)\n",
    "Each row represent the top genders which are manually selected. Inside each row is a list of numbers which corresponds to the total participants of the gender who took the survey the corresponding year (2014, 2016, 2017, 2018, and 2019).\n"
   ]
  },
  {
   "cell_type": "code",
   "execution_count": 94,
   "id": "79240430",
   "metadata": {},
   "outputs": [
    {
     "name": "stdout",
     "output_type": "stream",
     "text": [
      "Gender distribution: \n",
      "\n",
      "{'female': [248, 340, 219, 128, 100],\n",
      " 'gender_fluid': [1, 3, 2, 2, 1],\n",
      " 'male': [996, 1057, 504, 269, 228],\n",
      " 'non_binary': [2, 8, 8, 5, 4],\n",
      " 'other': [7, 15, 19, 7, 16],\n",
      " 'queer': [2, 5, 2, 2, 0],\n",
      " 'transgender': [4, 5, 2, 4, 3]}\n"
     ]
    }
   ],
   "source": [
    "print(f\"Gender distribution: \\n\")\n",
    "pprint.pprint(gender_dist)"
   ]
  },
  {
   "cell_type": "code",
   "execution_count": 95,
   "id": "9c25fb94",
   "metadata": {},
   "outputs": [
    {
     "data": {
      "image/png": "[encoded data removed]",
      "text/plain": [
       "<Figure size 1500x700 with 1 Axes>"
      ]
     },
     "metadata": {},
     "output_type": "display_data"
    }
   ],
   "source": [
    "plt.figure(figsize=(15,7))\n",
    "for key in gender_dist.keys():\n",
    "    plt.plot(gender_dist.get(key), \"o-\", label=key.title().replace(\"_\", \" \"))\n",
    "    \n",
    "    if key is \"male\" or key is \"female\":                                    \n",
    "        for x in range(surveys_df.shape[0]):\n",
    "            plt.annotate(gender_dist.get(key)[x], (x, gender_dist.get(key)[x]),\n",
    "                         textcoords=\"offset points\",xytext=(0,10), ha='center') \n",
    "\n",
    "plt.legend(title=\"Legend\", frameon=False)\n",
    "plt.gca().spines['top'].set_visible(False)\n",
    "plt.gca().spines['right'].set_visible(False)\n",
    "plt.xticks(range(surveys_df.shape[0]), surveys_df['SurveyID'], rotation=90)\n",
    "plt.title(label=\"Absolute distribution of genders taking the \\\"Mental Health in Tech\\\" Survey\",\n",
    "          fontsize=14,y=1.05)\n",
    "plt.savefig(\"./Absolute Gender Distribution.png\", dpi=600, transparent=True)\n",
    "plt.show()"
   ]
  },
  {
   "cell_type": "markdown",
   "id": "832cb5fc",
   "metadata": {},
   "source": [
    "In the graph above we see that the number of total participants has significantly decreased over the years, majority of whom are male. The number of women taking the survey mainly remain constant. Number of people of other genders are very low and it is difficult to establish any pattern as they reamain low throughout the time period."
   ]
  },
  {
   "cell_type": "code",
   "execution_count": 96,
   "id": "4e714c77",
   "metadata": {},
   "outputs": [
    {
     "data": {
      "text/html": [
       "<div>\n",
       "<style scoped>\n",
       "    .dataframe tbody tr th:only-of-type {\n",
       "        vertical-align: middle;\n",
       "    }\n",
       "\n",
       "    .dataframe tbody tr th {\n",
       "        vertical-align: top;\n",
       "    }\n",
       "\n",
       "    .dataframe thead th {\n",
       "        text-align: right;\n",
       "    }\n",
       "</style>\n",
       "<table border=\"1\" class=\"dataframe\">\n",
       "  <thead>\n",
       "    <tr style=\"text-align: right;\">\n",
       "      <th></th>\n",
       "      <th>AVG(AnswerText)</th>\n",
       "    </tr>\n",
       "  </thead>\n",
       "  <tbody>\n",
       "    <tr>\n",
       "      <th>0</th>\n",
       "      <td>33.915363</td>\n",
       "    </tr>\n",
       "  </tbody>\n",
       "</table>\n",
       "</div>"
      ],
      "text/plain": [
       "   AVG(AnswerText)\n",
       "0        33.915363"
      ]
     },
     "execution_count": 96,
     "metadata": {},
     "output_type": "execute_result"
    }
   ],
   "source": [
    "#que: Average age of developers\n",
    "pd.read_sql_query(\n",
    "    \"SELECT AVG(AnswerText) FROM question \\\n",
    "     JOIN answer ON question.questionid = answer.QuestionID \\\n",
    "     WHERE question.questiontext = 'What is your age?'\" \n",
    "    , con)"
   ]
  },
  {
   "cell_type": "markdown",
   "id": "d2027069",
   "metadata": {},
   "source": [
    "Since the dataset is quite large, I will be focusing on the following aspects of the database.\n",
    "\n",
    "1. Age\n",
    "2. Gender\n",
    "3. 57/ 59\n",
    "4. 9\n",
    "5. Do you work remotely?\n",
    "6. What is your race?\n",
    "7. 33\n",
    "8. Do you have a family history of mental illness?\n",
    "9. "
   ]
  },
  {
   "cell_type": "code",
   "execution_count": 97,
   "id": "e2ded72e",
   "metadata": {},
   "outputs": [
    {
     "data": {
      "text/html": [
       "<div>\n",
       "<style scoped>\n",
       "    .dataframe tbody tr th:only-of-type {\n",
       "        vertical-align: middle;\n",
       "    }\n",
       "\n",
       "    .dataframe tbody tr th {\n",
       "        vertical-align: top;\n",
       "    }\n",
       "\n",
       "    .dataframe thead th {\n",
       "        text-align: right;\n",
       "    }\n",
       "</style>\n",
       "<table border=\"1\" class=\"dataframe\">\n",
       "  <thead>\n",
       "    <tr style=\"text-align: right;\">\n",
       "      <th></th>\n",
       "      <th>AnswerText</th>\n",
       "    </tr>\n",
       "  </thead>\n",
       "  <tbody>\n",
       "    <tr>\n",
       "      <th>0</th>\n",
       "      <td>-1</td>\n",
       "    </tr>\n",
       "    <tr>\n",
       "      <th>1</th>\n",
       "      <td>-1</td>\n",
       "    </tr>\n",
       "    <tr>\n",
       "      <th>2</th>\n",
       "      <td>-1</td>\n",
       "    </tr>\n",
       "    <tr>\n",
       "      <th>3</th>\n",
       "      <td>-1</td>\n",
       "    </tr>\n",
       "    <tr>\n",
       "      <th>4</th>\n",
       "      <td>-1</td>\n",
       "    </tr>\n",
       "    <tr>\n",
       "      <th>...</th>\n",
       "      <td>...</td>\n",
       "    </tr>\n",
       "    <tr>\n",
       "      <th>4213</th>\n",
       "      <td>1</td>\n",
       "    </tr>\n",
       "    <tr>\n",
       "      <th>4214</th>\n",
       "      <td>1</td>\n",
       "    </tr>\n",
       "    <tr>\n",
       "      <th>4215</th>\n",
       "      <td>1</td>\n",
       "    </tr>\n",
       "    <tr>\n",
       "      <th>4216</th>\n",
       "      <td>1</td>\n",
       "    </tr>\n",
       "    <tr>\n",
       "      <th>4217</th>\n",
       "      <td>1</td>\n",
       "    </tr>\n",
       "  </tbody>\n",
       "</table>\n",
       "<p>4218 rows × 1 columns</p>\n",
       "</div>"
      ],
      "text/plain": [
       "     AnswerText\n",
       "0            -1\n",
       "1            -1\n",
       "2            -1\n",
       "3            -1\n",
       "4            -1\n",
       "...         ...\n",
       "4213          1\n",
       "4214          1\n",
       "4215          1\n",
       "4216          1\n",
       "4217          1\n",
       "\n",
       "[4218 rows x 1 columns]"
      ]
     },
     "execution_count": 97,
     "metadata": {},
     "output_type": "execute_result"
    }
   ],
   "source": [
    "pd.read_sql_query(\"SELECT AnswerText FROM question JOIN answer ON question.questionid = answer.QuestionID WHERE question.questionID = 5\", con)"
   ]
  },
  {
   "cell_type": "code",
   "execution_count": 98,
   "id": "32627a6f",
   "metadata": {},
   "outputs": [
    {
     "data": {
      "text/html": [
       "<div>\n",
       "<style scoped>\n",
       "    .dataframe tbody tr th:only-of-type {\n",
       "        vertical-align: middle;\n",
       "    }\n",
       "\n",
       "    .dataframe tbody tr th {\n",
       "        vertical-align: top;\n",
       "    }\n",
       "\n",
       "    .dataframe thead th {\n",
       "        text-align: right;\n",
       "    }\n",
       "</style>\n",
       "<table border=\"1\" class=\"dataframe\">\n",
       "  <thead>\n",
       "    <tr style=\"text-align: right;\">\n",
       "      <th></th>\n",
       "      <th>questiontext</th>\n",
       "    </tr>\n",
       "  </thead>\n",
       "  <tbody>\n",
       "    <tr>\n",
       "      <th>0</th>\n",
       "      <td>Describe the conversation you had with your em...</td>\n",
       "    </tr>\n",
       "    <tr>\n",
       "      <th>1</th>\n",
       "      <td>Describe the conversation with coworkers you h...</td>\n",
       "    </tr>\n",
       "    <tr>\n",
       "      <th>2</th>\n",
       "      <td>Describe the conversation your coworker had wi...</td>\n",
       "    </tr>\n",
       "    <tr>\n",
       "      <th>3</th>\n",
       "      <td>Describe the conversation you had with your pr...</td>\n",
       "    </tr>\n",
       "    <tr>\n",
       "      <th>4</th>\n",
       "      <td>Describe the conversation you had with your pr...</td>\n",
       "    </tr>\n",
       "    <tr>\n",
       "      <th>5</th>\n",
       "      <td>Describe the conversation your coworker had wi...</td>\n",
       "    </tr>\n",
       "    <tr>\n",
       "      <th>6</th>\n",
       "      <td>Describe the circumstances of the badly handle...</td>\n",
       "    </tr>\n",
       "    <tr>\n",
       "      <th>7</th>\n",
       "      <td>Describe the circumstances of the supportive o...</td>\n",
       "    </tr>\n",
       "    <tr>\n",
       "      <th>8</th>\n",
       "      <td>Briefly describe what you think the industry a...</td>\n",
       "    </tr>\n",
       "    <tr>\n",
       "      <th>9</th>\n",
       "      <td>Which of the following best describes your wor...</td>\n",
       "    </tr>\n",
       "  </tbody>\n",
       "</table>\n",
       "</div>"
      ],
      "text/plain": [
       "                                        questiontext\n",
       "0  Describe the conversation you had with your em...\n",
       "1  Describe the conversation with coworkers you h...\n",
       "2  Describe the conversation your coworker had wi...\n",
       "3  Describe the conversation you had with your pr...\n",
       "4  Describe the conversation you had with your pr...\n",
       "5  Describe the conversation your coworker had wi...\n",
       "6  Describe the circumstances of the badly handle...\n",
       "7  Describe the circumstances of the supportive o...\n",
       "8  Briefly describe what you think the industry a...\n",
       "9  Which of the following best describes your wor..."
      ]
     },
     "execution_count": 98,
     "metadata": {},
     "output_type": "execute_result"
    }
   ],
   "source": [
    "pd.read_sql_query(\"SELECT DISTINCT(question.questiontext) FROM question JOIN answer ON question.questionid = answer.QuestionID WHERE question.questiontext LIKE '%Describe%'\", con)"
   ]
  },
  {
   "cell_type": "markdown",
   "id": "d0c28e4d",
   "metadata": {},
   "source": [
    "At this point, I will be selecting 5 unique questions for further analysis.\n",
    "\n",
    "Question ID: 1, 2, 3, 20, 6"
   ]
  },
  {
   "cell_type": "code",
   "execution_count": 99,
   "id": "2d3e31a6",
   "metadata": {},
   "outputs": [
    {
     "data": {
      "text/html": [
       "<div>\n",
       "<style scoped>\n",
       "    .dataframe tbody tr th:only-of-type {\n",
       "        vertical-align: middle;\n",
       "    }\n",
       "\n",
       "    .dataframe tbody tr th {\n",
       "        vertical-align: top;\n",
       "    }\n",
       "\n",
       "    .dataframe thead th {\n",
       "        text-align: right;\n",
       "    }\n",
       "</style>\n",
       "<table border=\"1\" class=\"dataframe\">\n",
       "  <thead>\n",
       "    <tr style=\"text-align: right;\">\n",
       "      <th></th>\n",
       "      <th>question</th>\n",
       "      <th>answer</th>\n",
       "      <th>year</th>\n",
       "      <th>user_id</th>\n",
       "      <th>question_id</th>\n",
       "    </tr>\n",
       "  </thead>\n",
       "  <tbody>\n",
       "    <tr>\n",
       "      <th>0</th>\n",
       "      <td>What is your age?</td>\n",
       "      <td>-1</td>\n",
       "      <td>2014</td>\n",
       "      <td>391</td>\n",
       "      <td>1</td>\n",
       "    </tr>\n",
       "    <tr>\n",
       "      <th>1</th>\n",
       "      <td>What is your age?</td>\n",
       "      <td>-1</td>\n",
       "      <td>2014</td>\n",
       "      <td>716</td>\n",
       "      <td>1</td>\n",
       "    </tr>\n",
       "    <tr>\n",
       "      <th>2</th>\n",
       "      <td>What is your age?</td>\n",
       "      <td>-1</td>\n",
       "      <td>2014</td>\n",
       "      <td>1128</td>\n",
       "      <td>1</td>\n",
       "    </tr>\n",
       "    <tr>\n",
       "      <th>3</th>\n",
       "      <td>What is your age?</td>\n",
       "      <td>-1</td>\n",
       "      <td>2017</td>\n",
       "      <td>3447</td>\n",
       "      <td>1</td>\n",
       "    </tr>\n",
       "    <tr>\n",
       "      <th>4</th>\n",
       "      <td>What is your age?</td>\n",
       "      <td>-1</td>\n",
       "      <td>2017</td>\n",
       "      <td>3449</td>\n",
       "      <td>1</td>\n",
       "    </tr>\n",
       "  </tbody>\n",
       "</table>\n",
       "</div>"
      ],
      "text/plain": [
       "            question answer  year  user_id  question_id\n",
       "0  What is your age?     -1  2014      391            1\n",
       "1  What is your age?     -1  2014      716            1\n",
       "2  What is your age?     -1  2014     1128            1\n",
       "3  What is your age?     -1  2017     3447            1\n",
       "4  What is your age?     -1  2017     3449            1"
      ]
     },
     "execution_count": 99,
     "metadata": {},
     "output_type": "execute_result"
    }
   ],
   "source": [
    "df = pd.read_sql_query(\"SELECT question.questiontext AS question, answer.AnswerText AS answer, answer.SurveyID as year, answer.UserID AS user_id, answer.QuestionID AS question_id FROM question JOIN answer ON question.questionid = answer.QuestionID WHERE question.questionid IN (1, 2, 3, 6, 20, 52, 79, 89, 113, 118)\", con)\n",
    "df.head()"
   ]
  },
  {
   "cell_type": "code",
   "execution_count": 100,
   "id": "bee32658",
   "metadata": {},
   "outputs": [
    {
     "name": "stdout",
     "output_type": "stream",
     "text": [
      "<class 'pandas.core.frame.DataFrame'>\n",
      "RangeIndex: 28704 entries, 0 to 28703\n",
      "Data columns (total 5 columns):\n",
      " #   Column       Non-Null Count  Dtype \n",
      "---  ------       --------------  ----- \n",
      " 0   question     28704 non-null  object\n",
      " 1   answer       28704 non-null  object\n",
      " 2   year         28704 non-null  int64 \n",
      " 3   user_id      28704 non-null  int64 \n",
      " 4   question_id  28704 non-null  int64 \n",
      "dtypes: int64(3), object(2)\n",
      "memory usage: 1.1+ MB\n"
     ]
    }
   ],
   "source": [
    "df.info()"
   ]
  },
  {
   "cell_type": "code",
   "execution_count": 101,
   "id": "b2434469",
   "metadata": {},
   "outputs": [
    {
     "data": {
      "text/html": [
       "<div>\n",
       "<style scoped>\n",
       "    .dataframe tbody tr th:only-of-type {\n",
       "        vertical-align: middle;\n",
       "    }\n",
       "\n",
       "    .dataframe tbody tr th {\n",
       "        vertical-align: top;\n",
       "    }\n",
       "\n",
       "    .dataframe thead th {\n",
       "        text-align: right;\n",
       "    }\n",
       "</style>\n",
       "<table border=\"1\" class=\"dataframe\">\n",
       "  <thead>\n",
       "    <tr style=\"text-align: right;\">\n",
       "      <th></th>\n",
       "      <th>year</th>\n",
       "      <th>user_id</th>\n",
       "      <th>question_id</th>\n",
       "    </tr>\n",
       "  </thead>\n",
       "  <tbody>\n",
       "    <tr>\n",
       "      <th>count</th>\n",
       "      <td>28704.000000</td>\n",
       "      <td>28704.000000</td>\n",
       "      <td>28704.000000</td>\n",
       "    </tr>\n",
       "    <tr>\n",
       "      <th>mean</th>\n",
       "      <td>2016.386288</td>\n",
       "      <td>2369.190635</td>\n",
       "      <td>29.640991</td>\n",
       "    </tr>\n",
       "    <tr>\n",
       "      <th>std</th>\n",
       "      <td>1.453178</td>\n",
       "      <td>1126.164719</td>\n",
       "      <td>39.162420</td>\n",
       "    </tr>\n",
       "    <tr>\n",
       "      <th>min</th>\n",
       "      <td>2014.000000</td>\n",
       "      <td>1.000000</td>\n",
       "      <td>1.000000</td>\n",
       "    </tr>\n",
       "    <tr>\n",
       "      <th>25%</th>\n",
       "      <td>2016.000000</td>\n",
       "      <td>1527.750000</td>\n",
       "      <td>2.000000</td>\n",
       "    </tr>\n",
       "    <tr>\n",
       "      <th>50%</th>\n",
       "      <td>2016.000000</td>\n",
       "      <td>2424.500000</td>\n",
       "      <td>6.000000</td>\n",
       "    </tr>\n",
       "    <tr>\n",
       "      <th>75%</th>\n",
       "      <td>2017.000000</td>\n",
       "      <td>3321.250000</td>\n",
       "      <td>52.000000</td>\n",
       "    </tr>\n",
       "    <tr>\n",
       "      <th>max</th>\n",
       "      <td>2019.000000</td>\n",
       "      <td>4218.000000</td>\n",
       "      <td>118.000000</td>\n",
       "    </tr>\n",
       "  </tbody>\n",
       "</table>\n",
       "</div>"
      ],
      "text/plain": [
       "               year       user_id   question_id\n",
       "count  28704.000000  28704.000000  28704.000000\n",
       "mean    2016.386288   2369.190635     29.640991\n",
       "std        1.453178   1126.164719     39.162420\n",
       "min     2014.000000      1.000000      1.000000\n",
       "25%     2016.000000   1527.750000      2.000000\n",
       "50%     2016.000000   2424.500000      6.000000\n",
       "75%     2017.000000   3321.250000     52.000000\n",
       "max     2019.000000   4218.000000    118.000000"
      ]
     },
     "execution_count": 101,
     "metadata": {},
     "output_type": "execute_result"
    }
   ],
   "source": [
    "df.describe()"
   ]
  },
  {
   "cell_type": "code",
   "execution_count": 102,
   "id": "5350f1d9",
   "metadata": {},
   "outputs": [
    {
     "data": {
      "text/plain": [
       "33.91536273115221"
      ]
     },
     "execution_count": 102,
     "metadata": {},
     "output_type": "execute_result"
    }
   ],
   "source": [
    "# What is the average age of a developer?\n",
    "\n",
    "df[df[\"question_id\"]==1][\"answer\"].astype(int).mean()"
   ]
  },
  {
   "cell_type": "code",
   "execution_count": 103,
   "id": "b45188bd",
   "metadata": {
    "scrolled": true
   },
   "outputs": [
    {
     "data": {
      "image/png": "[encoded data removed]",
      "text/plain": [
       "<Figure size 640x480 with 1 Axes>"
      ]
     },
     "metadata": {},
     "output_type": "display_data"
    }
   ],
   "source": [
    "# How has the age of developers progressed over the years?\n",
    "\n",
    "q1_df = df[df[\"question_id\"]==1]\n",
    "\n",
    "q1_df[\"answer\"] = q1_df[\"answer\"].astype(int)\n",
    "\n",
    "sns.barplot(x=\"year\", y=\"answer\", data=q1_df)\n",
    "plt.title(\"Average age of developers over the years.\")\n",
    "plt.xlabel(\"Year\")\n",
    "plt.ylabel(\"Age of developer\")\n",
    "plt.show()"
   ]
  },
  {
   "cell_type": "markdown",
   "id": "6ea043ef",
   "metadata": {},
   "source": [
    "Let's look at gender distribution. First, let's see all unique answers to see if we can categorize them. Just for fun let's do it with sql query. SELECT DISTINCT AnswerText FROM answer Where QuestionID = 2"
   ]
  },
  {
   "cell_type": "code",
   "execution_count": 106,
   "id": "9828d19b",
   "metadata": {},
   "outputs": [
    {
     "data": {
      "text/html": [
       "<div>\n",
       "<style scoped>\n",
       "    .dataframe tbody tr th:only-of-type {\n",
       "        vertical-align: middle;\n",
       "    }\n",
       "\n",
       "    .dataframe tbody tr th {\n",
       "        vertical-align: top;\n",
       "    }\n",
       "\n",
       "    .dataframe thead th {\n",
       "        text-align: right;\n",
       "    }\n",
       "</style>\n",
       "<table border=\"1\" class=\"dataframe\">\n",
       "  <thead>\n",
       "    <tr style=\"text-align: right;\">\n",
       "      <th></th>\n",
       "      <th>AnswerText</th>\n",
       "    </tr>\n",
       "  </thead>\n",
       "  <tbody>\n",
       "    <tr>\n",
       "      <th>0</th>\n",
       "      <td>Male</td>\n",
       "    </tr>\n",
       "    <tr>\n",
       "      <th>1</th>\n",
       "      <td>Female</td>\n",
       "    </tr>\n",
       "    <tr>\n",
       "      <th>2</th>\n",
       "      <td>fm</td>\n",
       "    </tr>\n",
       "    <tr>\n",
       "      <th>3</th>\n",
       "      <td>Female or Multi-Gender Femme</td>\n",
       "    </tr>\n",
       "    <tr>\n",
       "      <th>4</th>\n",
       "      <td>Other</td>\n",
       "    </tr>\n",
       "  </tbody>\n",
       "</table>\n",
       "</div>"
      ],
      "text/plain": [
       "                     AnswerText\n",
       "0                          Male\n",
       "1                        Female\n",
       "2                            fm\n",
       "3  Female or Multi-Gender Femme\n",
       "4                         Other"
      ]
     },
     "execution_count": 106,
     "metadata": {},
     "output_type": "execute_result"
    }
   ],
   "source": [
    "#gender distribution in united states\n",
    "genderAnswers= pd.read_sql_query('SELECT DISTINCT (a.AnswerText) FROM answer a JOIN answer b ON b.UserID = a.UserID WHERE b.AnswerText = \"Male\" AND b.AnswerText = \"United States\" OR b.AnswerText = \"United States of America\" AND a.QuestionID = 2'\n",
    ",con)\n",
    "genderAnswers.head()\n"
   ]
  },
  {
   "cell_type": "markdown",
   "id": "b1eb8ab7",
   "metadata": {},
   "source": [
    "Unfortunately, when it comes to responses we are seeing examples like \"God King of the Valajar\" or \"I have a penis\" or \"I am a Wookie\". This makes it very difficult to inner-categorize LGBTQ community. The only way to do that is to go manually through each non-male/female response. Moreover, I don't have extensive knowledge of LGBTQ community, thus I can't make accurate groupings. I hate to be exclusive, but we will have to unite all nontrivial answers as one LGBTQ group. "
   ]
  },
  {
   "cell_type": "code",
   "execution_count": 105,
   "id": "4bfd068f",
   "metadata": {},
   "outputs": [
    {
     "ename": "NameError",
     "evalue": "name 'dfUSA' is not defined",
     "output_type": "error",
     "traceback": [
      "\u001b[0;31m---------------------------------------------------------------------------\u001b[0m",
      "\u001b[0;31mNameError\u001b[0m                                 Traceback (most recent call last)",
      "Cell \u001b[0;32mIn [105], line 1\u001b[0m\n\u001b[0;32m----> 1\u001b[0m genderUSA \u001b[38;5;241m=\u001b[39m \u001b[43mdfUSA\u001b[49m[dfUSA[\u001b[38;5;124m'\u001b[39m\u001b[38;5;124mQuestionID\u001b[39m\u001b[38;5;124m'\u001b[39m]\u001b[38;5;241m==\u001b[39m\u001b[38;5;241m2\u001b[39m]\n\u001b[1;32m      2\u001b[0m genderUSA\u001b[38;5;241m.\u001b[39mAnswerText\u001b[38;5;241m.\u001b[39mvalue_counts()\n",
      "\u001b[0;31mNameError\u001b[0m: name 'dfUSA' is not defined"
     ]
    }
   ],
   "source": [
    "genderUSA = dfUSA[dfUSA['QuestionID']==2]\n",
    "genderUSA.AnswerText.value_counts()"
   ]
  },
  {
   "cell_type": "markdown",
   "id": "5c6d8575",
   "metadata": {},
   "source": [
    "We can see that significant amount of records contain female and male records with lovercase, let's fix it"
   ]
  },
  {
   "cell_type": "code",
   "execution_count": null,
   "id": "a1c00082",
   "metadata": {},
   "outputs": [],
   "source": [
    "genderUSA.loc[genderUSA['AnswerText'] == 'male', 'AnswerText'] = 'Male'\n",
    "genderUSA.loc[genderUSA['AnswerText'] == 'female', 'AnswerText'] = 'Female'"
   ]
  },
  {
   "cell_type": "code",
   "execution_count": null,
   "id": "fd92e8a7",
   "metadata": {},
   "outputs": [],
   "source": [
    "genderUSA['AnswerText'] = np.where((genderUSA['AnswerText'] == 'Male') | (genderUSA['AnswerText'] == \"Female\"),\n",
    "                                   genderUSA['AnswerText'], 'Other')"
   ]
  },
  {
   "cell_type": "markdown",
   "id": "166cac9d",
   "metadata": {},
   "source": [
    "Now for the graph let's add iteration column that will server as number of rows for our graph."
   ]
  },
  {
   "cell_type": "code",
   "execution_count": null,
   "id": "f7e0fc02",
   "metadata": {},
   "outputs": [],
   "source": [
    "genderUSA = genderUSA.assign(iteration= lambda x: 1)\n",
    "fig = px.pie(genderUSA, values = 'iteration', names = 'AnswerText')\n",
    "fig.show()"
   ]
  },
  {
   "cell_type": "code",
   "execution_count": null,
   "id": "3c6c7e44",
   "metadata": {},
   "outputs": [],
   "source": [
    "q2_df = df[df[\"question_id\"]==2]\n",
    "q2_df[\"answer\"] = q2_df[\"answer\"].str.lower()\n",
    "q2_df[\"mapped_gender\"] = np.where(q2_df[\"answer\"] == \"male\", \"Male\", np.where(q2_df[\"answer\"] == \"female\", \"Female\", \"Others\"))\n",
    "q2_df[\"mapped_gender\"].value_counts()"
   ]
  },
  {
   "cell_type": "markdown",
   "id": "6c10239a",
   "metadata": {},
   "source": [
    "A quick glance at this graph could tell us that Males are overrepresented in this survey, however, distribution of genders is pretty close to the gender representation reported by dataprot.net "
   ]
  },
  {
   "cell_type": "code",
   "execution_count": null,
   "id": "2a84acfb",
   "metadata": {},
   "outputs": [],
   "source": [
    "diagnosed = dfUSA.loc[dfUSA['QuestionID']==34]\n",
    "diagnosed = diagnosed.assign(iteration= lambda x: 1)\n",
    "diagnosed.AnswerText.unique()"
   ]
  },
  {
   "cell_type": "markdown",
   "id": "efbd07c1",
   "metadata": {},
   "source": [
    "\n",
    "\n",
    "We can see that some records contain '-1'. It means people refused/didn't answer this question\n",
    "\n",
    "Let's remove them from the dataframe\n"
   ]
  },
  {
   "cell_type": "code",
   "execution_count": null,
   "id": "e6b0dc4e",
   "metadata": {},
   "outputs": [],
   "source": [
    "# diagnosed = diagnosed[diagnosed['AnswerText'] != '-1']"
   ]
  },
  {
   "cell_type": "code",
   "execution_count": null,
   "id": "c96c0889",
   "metadata": {},
   "outputs": [],
   "source": [
    "#let's plot the graph\n",
    "fig = px.pie(diagnosed, values = 'iteration', names = 'AnswerText')\n",
    "fig.show()"
   ]
  },
  {
   "cell_type": "markdown",
   "id": "7e9f6c89",
   "metadata": {},
   "source": [
    "We can see that almost 3/4 of people who participated in the survey were diagnosed with mental ilness. It's much higher than National average of almost 20% reported by NIH. Of course, we could assume that working in Tech is more stressful than in many other fields. However, I think this difference is explained by a basic bias of participation. More people who had this problem or who knows someone who had this problem will take their time and participate in the survey while people who never had mental ilness problem will be less likely to participate. Especially given that this question came 34-th, which takes much more time to answer than let's say a typical Presidential Voting Poll."
   ]
  },
  {
   "cell_type": "markdown",
   "id": "c6785eea",
   "metadata": {},
   "source": [
    "Let's see how many people sought at some point treatment for Mental Disorder"
   ]
  },
  {
   "cell_type": "code",
   "execution_count": null,
   "id": "8194855d",
   "metadata": {},
   "outputs": [],
   "source": [
    "sought = dfUSA.loc[dfUSA['QuestionID']==7]\n",
    "sought = sought.assign(iteration= lambda x: 1)\n",
    "sought.AnswerText.unique()"
   ]
  },
  {
   "cell_type": "code",
   "execution_count": null,
   "id": "636aef86",
   "metadata": {},
   "outputs": [],
   "source": [
    "#let's change boolean value to yes or no\n",
    "sought.loc[sought['AnswerText'] == '0', 'AnswerText'] = 'No'\n",
    "sought.loc[sought['AnswerText'] == '1', 'AnswerText'] = 'Yes'"
   ]
  },
  {
   "cell_type": "code",
   "execution_count": null,
   "id": "bda45d5d",
   "metadata": {},
   "outputs": [],
   "source": [
    "fig = px.pie(sought, values = 'iteration', names = 'AnswerText')\n",
    "fig.show()"
   ]
  },
  {
   "cell_type": "markdown",
   "id": "fb594eac",
   "metadata": {},
   "source": [
    "We can see that 63.3% sought treatment for a mental health disorder, compared to 36.7% who didn't. But hold on, we had 72.1% diagnosed with Mental Discorder, why did only 63.3% sought treatment? We have a sample of around 2600 here, while we had a sample of less than 1400 in the previous graph. It comes to bias again, more people to whom this problem isn't as important came through the 7-th question compared to 34-th. Thus, we can't make a claim that there are more people who were diagnosed with mental disorder than those who sought help as there are significantly more people who answered one question over the other. What we can do is to see if people tend to seek streatment more often if their current or previous employer provided respective benefits."
   ]
  },
  {
   "cell_type": "code",
   "execution_count": null,
   "id": "6264d71d",
   "metadata": {},
   "outputs": [],
   "source": [
    "currentEmployer = dfUSA.loc[dfUSA['QuestionID']==10]\n",
    "previousEmployer = dfUSA.loc[dfUSA['QuestionID']==23]"
   ]
  },
  {
   "cell_type": "code",
   "execution_count": null,
   "id": "97501e50",
   "metadata": {},
   "outputs": [],
   "source": [
    "currentEmployer.AnswerText.unique()"
   ]
  },
  {
   "cell_type": "code",
   "execution_count": null,
   "id": "32d1103d",
   "metadata": {},
   "outputs": [],
   "source": [
    "previousEmployer.AnswerText.value_counts()"
   ]
  },
  {
   "cell_type": "code",
   "execution_count": null,
   "id": "1f89d116",
   "metadata": {},
   "outputs": [],
   "source": [
    "#country of developers\n",
    "q3_df = df[df[\"question_id\"]==3]\n",
    "# q3_df.unique()\n",
    "q3_df.head()"
   ]
  },
  {
   "cell_type": "code",
   "execution_count": null,
   "id": "7dfcc705",
   "metadata": {},
   "outputs": [],
   "source": [
    "q3_df[\"answer\"].describe()"
   ]
  },
  {
   "cell_type": "markdown",
   "id": "58daad2d",
   "metadata": {},
   "source": [
    "There are 4,218 answers for the question, \"What country do you live in?\". Among these entries, there are 81 unique entries of which the most occuring answer is the United States of America."
   ]
  },
  {
   "cell_type": "markdown",
   "id": "c188a875",
   "metadata": {},
   "source": [
    "For the first part, I want to focus on participants who live in the US. We can see there are 2 variations of how the US is recorded: 'United States' and 'United States of America' We will create a new dataframe that will only have participants from the US. Later we can always come back to original df if we want to explore anything else.\n",
    "\n",
    "A simple self join get the job done. In this case we also include immigrants who worked in the US as we also go through the question #50 SELECT a.* FROM answer a JOIN answer b ON b.UserID = a.UserID WHERE b.AnswerText = \"United States\" OR b.AnswerText = \"United States of America\" Order by a.UserID"
   ]
  },
  {
   "cell_type": "code",
   "execution_count": null,
   "id": "b62c8863",
   "metadata": {},
   "outputs": [],
   "source": [
    "dfUSA = pd.read_sql_query('SELECT DISTINCT a.* FROM answer a JOIN answer b ON b.UserID = a.UserID WHERE b.AnswerText = \"United States\" OR b.AnswerText = \"United States of America\"'\n",
    ",con)\n",
    "dfUSA.head(10)"
   ]
  },
  {
   "cell_type": "code",
   "execution_count": null,
   "id": "2c657e54",
   "metadata": {},
   "outputs": [],
   "source": [
    "#family history of mental illness\n",
    "q6_df = df[df[\"question_id\"]==6]\n",
    "q6_df.head()"
   ]
  },
  {
   "cell_type": "code",
   "execution_count": null,
   "id": "9ebfc863",
   "metadata": {},
   "outputs": [],
   "source": [
    "q6_df[\"answer\"].value_counts()"
   ]
  },
  {
   "cell_type": "code",
   "execution_count": null,
   "id": "96a22a18",
   "metadata": {},
   "outputs": [],
   "source": [
    "sns.countplot(x=\"answer\", data=q6_df)\n",
    "plt.title(\"How many developers have a family history of mental illness?\")\n",
    "plt.xlabel(\"Response\")\n",
    "plt.show()"
   ]
  },
  {
   "cell_type": "code",
   "execution_count": null,
   "id": "7d54cd2b",
   "metadata": {},
   "outputs": [],
   "source": [
    "#medical coverage\n",
    "q20_df = df[df[\"question_id\"]==20]\n",
    "q20_df.head()"
   ]
  },
  {
   "cell_type": "code",
   "execution_count": null,
   "id": "06bba7e0",
   "metadata": {},
   "outputs": [],
   "source": [
    "q20_df[\"answer\"].value_counts()\n",
    "st = q20_df.iloc[5, 0]\n",
    "st"
   ]
  },
  {
   "cell_type": "code",
   "execution_count": null,
   "id": "c9426794",
   "metadata": {},
   "outputs": [],
   "source": [
    "sns.countplot(x=\"answer\", data=q20_df)\n",
    "plt.title(\"Plot showing how many developers have medical coverage\")\n",
    "plt.xlabel(\"Response\")\n",
    "plt.ylabel(\"Count\")\n",
    "plt.show()"
   ]
  },
  {
   "cell_type": "code",
   "execution_count": null,
   "id": "8f0b20c4",
   "metadata": {},
   "outputs": [],
   "source": [
    "#country and data\n",
    "country_df = qa.query(\"questionid == 3\")[[\"SurveyID\", \"AnswerText\"]]\n",
    "\n",
    "country_dict = {}\n",
    "\n",
    "for year in surveys_df['SurveyID']:\n",
    "    year_country_df = country_df[(country_df.SurveyID == year)]\n",
    "    value_counts = year_country_df.value_counts()\n",
    "    temp_dict = {}\n",
    "    \n",
    "    for country_name, country_no in zip(value_counts.index, value_counts):\n",
    "        country_name = country_name[1]  \n",
    "        \n",
    "        if country_name == \"United States\" or  country_name == \"United States of America\":\n",
    "            temp_dict[\"USA\"] = int(country_no)\n",
    "\n",
    "        else:\n",
    "            temp_dict[country_name] = int(country_no)\n",
    "    \n",
    "    country_dict[year] = temp_dict\n",
    "\n",
    "country_df = pd.DataFrame(country_dict)\n",
    "country_df.to_csv(\"./Countries taking the survey.csv\", index=False)\n",
    "display(country_df)"
   ]
  },
  {
   "cell_type": "markdown",
   "id": "8cfc73ea",
   "metadata": {},
   "source": [
    "Since plotiing so many country data on a plot will virtually make the graph unreadable, we decided to plot the top 5 countries for each year. The below graphs display the same.\n",
    "\n",
    "On hovering over the graph we get a pop-up of the country and the number of people taking part from that country in that year."
   ]
  },
  {
   "cell_type": "code",
   "execution_count": null,
   "id": "6a925878",
   "metadata": {},
   "outputs": [],
   "source": [
    "for column in country_df.columns:\n",
    "    count_df = country_df[column].sort_values(ascending=False).head(5)\n",
    "    count_df_others_sum = count_df[6:].sum()\n",
    "    temp_df = count_df.head(5)\n",
    "    temp_df.loc[\"Others\"] = count_df_others_sum\n",
    "    \n",
    "    fig = px.pie(temp_df,\n",
    "            values=column, \n",
    "            names=temp_df.index,\n",
    "            title=\"Top 5 countries taking the survey \"+str(column),\n",
    "            labels={\n",
    "                \"index\":\"Country\"\n",
    "            })\n",
    "    fig.update_traces(textposition='inside', textinfo='percent+label')\n",
    "    fig.update_layout(template=\"plotly_dark\")\n",
    "    fig.show()"
   ]
  },
  {
   "cell_type": "code",
   "execution_count": null,
   "id": "bba59eca",
   "metadata": {},
   "outputs": [],
   "source": []
  }
 ],
 "metadata": {
  "kernelspec": {
   "display_name": "Python 3 (ipykernel)",
   "language": "python",
   "name": "python3"
  },
  "language_info": {
   "codemirror_mode": {
    "name": "ipython",
    "version": 3
   },
   "file_extension": ".py",
   "mimetype": "text/x-python",
   "name": "python",
   "nbconvert_exporter": "python",
   "pygments_lexer": "ipython3",
   "version": "3.10.6"
  }
 },
 "nbformat": 4,
 "nbformat_minor": 5
}
